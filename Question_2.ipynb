{
  "nbformat": 4,
  "nbformat_minor": 0,
  "metadata": {
    "colab": {
      "provenance": [],
      "include_colab_link": true
    },
    "kernelspec": {
      "name": "python3",
      "display_name": "Python 3"
    },
    "language_info": {
      "name": "python"
    }
  },
  "cells": [
    {
      "cell_type": "markdown",
      "metadata": {
        "id": "view-in-github",
        "colab_type": "text"
      },
      "source": [
        "<a href=\"https://colab.research.google.com/github/anushreesinghal6/question_2/blob/main/Question_2.ipynb\" target=\"_parent\"><img src=\"https://colab.research.google.com/assets/colab-badge.svg\" alt=\"Open In Colab\"/></a>"
      ]
    },
    {
      "cell_type": "code",
      "execution_count": null,
      "metadata": {
        "colab": {
          "base_uri": "https://localhost:8080/"
        },
        "id": "CRp5e5t0BOFB",
        "outputId": "b76f759e-9e9b-4a44-a0e4-bdbdb293b17f"
      },
      "outputs": [
        {
          "output_type": "stream",
          "name": "stdout",
          "text": [
            "FCFS Order: ['Patient A', 'Patient B', 'Patient C', 'Patient D']\n",
            "SJF Order: ['Patient D', 'Patient B', 'Patient A', 'Patient C']\n",
            "Priority Scheduling Order: ['Patient C', 'Patient A', 'Patient D', 'Patient B']\n",
            "Round Robin Order: ['Patient A', 'Patient A', 'Patient A', 'Patient A', 'Patient A', 'Patient A', 'Patient B', 'Patient B', 'Patient B', 'Patient B', 'Patient C', 'Patient C', 'Patient C', 'Patient C', 'Patient C', 'Patient C', 'Patient C', 'Patient C', 'Patient D', 'Patient D', 'Patient D']\n"
          ]
        }
      ],
      "source": [
        "import heapq\n",
        "\n",
        "# Patient data\n",
        "patients = [\n",
        "    ('Patient A', 0, 3, 30),\n",
        "    ('Patient B', 10, 5, 20),\n",
        "    ('Patient C', 15, 2, 40),\n",
        "    ('Patient D', 20, 4, 15)\n",
        "]\n",
        "\n",
        "# FCFS (First-Come, First-Served)\n",
        "fcfs_order = [patient[0] for patient in sorted(patients, key=lambda x: x[1])]\n",
        "\n",
        "# SJF (Shortest Job First)\n",
        "sjf_order = [patient[0] for patient in sorted(patients, key=lambda x: x[3])]\n",
        "\n",
        "# PS (Priority Scheduling)\n",
        "priority_order = [patient[0] for patient in sorted(patients, key=lambda x: (x[2], x[3]))]\n",
        "\n",
        "# RR (Round Robin)\n",
        "def round_robin_scheduling(patients, time_slice):\n",
        "    rr_order = []\n",
        "    heap = []\n",
        "\n",
        "    for patient in patients:\n",
        "        heapq.heappush(heap, (patient[1], patient))\n",
        "\n",
        "    while heap:\n",
        "        _, current_patient = heapq.heappop(heap)\n",
        "        rr_order.append(current_patient[0])\n",
        "        current_patient = (current_patient[0], current_patient[1], current_patient[2], current_patient[3] - time_slice)\n",
        "\n",
        "        if current_patient[3] > 0:\n",
        "            heapq.heappush(heap, (current_patient[1], current_patient))\n",
        "\n",
        "    return rr_order\n",
        "\n",
        "rr_order = round_robin_scheduling(patients, 5)\n",
        "\n",
        "# Print results\n",
        "print(\"FCFS Order:\", fcfs_order)\n",
        "print(\"SJF Order:\", sjf_order)\n",
        "print(\"Priority Scheduling Order:\", priority_order)\n",
        "print(\"Round Robin Order:\", rr_order)\n"
      ]
    },
    {
      "cell_type": "code",
      "source": [
        "'''\n",
        "FCFS (First-Come, First-Served):\n",
        "Efficiency: FCFS is fair in the sense that it follows the order in which patients arrived. However, it may not be the most efficient option, as it doesn't consider the urgency or treatment time of patients. It may result in longer wait times for patients with more critical conditions or longer treatment times.\n",
        "Fairness: FCFS is fair in the sense that it treats all patients equally based on their arrival times. However, it may not prioritize those who need immediate attention the most.\n",
        "\n",
        "SJF (Shortest Job First):\n",
        "Efficiency: SJF is efficient in terms of minimizing wait times because it prioritizes patients with shorter treatment times. This can be advantageous in a busy emergency room to ensure that patients with quick medical needs are seen promptly.\n",
        "Fairness: SJF may not be the fairest option because it doesn't consider the urgency levels of patients. It could potentially lead to situations where high-urgency cases wait longer if they happen to have longer treatment times.\n",
        "\n",
        "Priority Scheduling (PS):\n",
        "Efficiency: PS can be efficient if the priority levels are assigned appropriately, taking into account both urgency and estimated treatment time. It allows for customization based on the hospital's specific priorities.\n",
        "Fairness: PS can be fair if priorities are assigned in a way that reflects the urgency and medical needs of patients. It provides flexibility to address both urgent cases and those with longer treatment times efficiently.\n",
        "\n",
        "Round Robin (RR):\n",
        "Efficiency: RR provides a fair distribution of resources and ensures that all patients get some attention. However, it may not be the most efficient option, especially for critical cases, as it doesn't prioritize based on urgency or treatment time. It can lead to longer wait times for urgent cases.\n",
        "Fairness: RR is generally fair as it treats all patients equally in terms of time slices. However, it may not be fair in addressing the needs of critically ill patients who may require immediate attention.\n",
        "\n",
        "In summary:\n",
        "Efficiency: SJF is the most efficient in terms of minimizing wait times, particularly for patients with shorter treatment times. PS can also be efficient if priorities are assigned appropriately.\n",
        "Fairness: PS has the potential to be the fairest option as it allows for customization based on the specific priorities of the hospital. FCFS is fair in terms of order of arrival, while RR is fair in distributing resources but may not address urgency effectively.\n",
        "The choice of the \"best\" scheduling algorithm depends on the hospital's priorities.\n",
        "If minimizing wait times and efficiently handling cases with shorter treatment times are top priorities, SJF may be favored.\n",
        "If fairness in terms of both urgency and estimated treatment time is crucial, PS with carefully assigned priorities could be the best option.\n",
        "\n",
        "\n",
        "\n",
        "'''"
      ],
      "metadata": {
        "id": "l3T-oVNkCY08"
      },
      "execution_count": null,
      "outputs": []
    }
  ]
}